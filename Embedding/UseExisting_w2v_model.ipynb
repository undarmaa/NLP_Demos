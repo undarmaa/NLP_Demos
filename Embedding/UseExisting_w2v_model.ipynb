{
 "cells": [
  {
   "cell_type": "code",
   "execution_count": null,
   "metadata": {},
   "outputs": [],
   "source": [
    "# http://qaru.site/questions/1673412/how-to-use-pretrained-word2vec-model-in-tensorflow\n",
    "\n",
    "# Как использовать предварительно обработанную модель Word2Vec в Tensorflow\n",
    "\n",
    "#Q:\n",
    "# У меня есть модель Word2Vec, которая обучается в Gensim. Как использовать его в Tensorflow для Word Embeddings. \n",
    "# Я не хочу тренировать вставку с нуля в Tensorflow. \n",
    "# Может ли кто-нибудь сказать мне, как это сделать с некоторым примером кода?\n",
    "\n",
    "# A:\n",
    "# Предположим, что у вас есть словарь и список inverse_dict с индексом в списке, соответствующим большинству общих слов:\n",
    "vocab = {'hello': 0, 'world': 2, 'neural':1, 'networks':3}\n",
    "inv_dict = ['hello', 'neural', 'world', 'networks']"
   ]
  },
  {
   "cell_type": "code",
   "execution_count": null,
   "metadata": {},
   "outputs": [],
   "source": [
    "# Обратите внимание, как индекс inverse_dict соответствует значениям словаря. \n",
    "# Теперь объявите матрицу встраивания и получите значения:\n",
    "vocab_size = len(inv_dict)\n",
    "emb_size = 300 # or whatever the size of your embeddings\n",
    "embeddings = np.zeroes((vocab_size, emb_size))\n",
    "\n",
    "from gensim.models.keyedvectors import KeyedVectors                         \n",
    "model = KeyedVectors.load_word2vec_format('embeddings_file', binary=True)\n",
    "\n",
    "for k, v in vocab.items():\n",
    "  embeddings[v] = model[k]"
   ]
  },
  {
   "cell_type": "code",
   "execution_count": null,
   "metadata": {},
   "outputs": [],
   "source": [
    "# # У вас есть ваша матрица вложений. Хорошо. Теперь предположим, что вы хотите тренироваться по образцу: \n",
    "x = ['hello', 'world']. \n",
    "# Но это не работает для нашей нейронной сети. \n",
    "# Нам нужно целое число:\n",
    "x_train = []\n",
    "for word in x:  \n",
    "  x_train.append(vocab[word]) # integerize\n",
    "x_train = np.array(x_train) # make into numpy array"
   ]
  },
  {
   "cell_type": "code",
   "execution_count": null,
   "metadata": {},
   "outputs": [],
   "source": [
    "# Теперь нам хорошо идти с вложением наших образцов на лету\n",
    "x_model = tf.placeholder(tf.int32, shape=[None, input_size])\n",
    "with tf.device(\"/cpu:0\"):\n",
    "  embedded_x = tf.nn.embedding_lookup(embeddings, x_model)"
   ]
  },
  {
   "cell_type": "code",
   "execution_count": 2,
   "metadata": {},
   "outputs": [],
   "source": [
    "# Теперь embedded_x переходит в вашу свертку или что-то еще. Я также предполагаю, что вы не переучиваете вложения, \n",
    "# а просто используете их. Надеюсь, что поможет"
   ]
  },
  {
   "cell_type": "code",
   "execution_count": null,
   "metadata": {},
   "outputs": [],
   "source": []
  }
 ],
 "metadata": {
  "kernelspec": {
   "display_name": "Python 3",
   "language": "python",
   "name": "python3"
  },
  "language_info": {
   "codemirror_mode": {
    "name": "ipython",
    "version": 3
   },
   "file_extension": ".py",
   "mimetype": "text/x-python",
   "name": "python",
   "nbconvert_exporter": "python",
   "pygments_lexer": "ipython3",
   "version": "3.5.2"
  }
 },
 "nbformat": 4,
 "nbformat_minor": 2
}
